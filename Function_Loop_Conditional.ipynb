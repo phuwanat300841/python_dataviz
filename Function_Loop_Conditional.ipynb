{
 "cells": [
  {
   "cell_type": "markdown",
   "metadata": {},
   "source": [
    "# Function\n",
    "### print name xxxx lastname xxxx ID xxxx\n",
    "### print Grade of subject Stat1 >> xxxx"
   ]
  },
  {
   "cell_type": "code",
   "execution_count": 1,
   "metadata": {},
   "outputs": [
    {
     "name": "stdout",
     "output_type": "stream",
     "text": [
      "ชื่อ ภูวนัตถ์ นามสกุล จันทะกล รหัส 603021111-0\n"
     ]
    }
   ],
   "source": [
    "a = 'ชื่อ ภูวนัตถ์ นามสกุล จันทะกล รหัส 603021111-0'\n",
    "print(a)"
   ]
  },
  {
   "cell_type": "code",
   "execution_count": 3,
   "metadata": {},
   "outputs": [
    {
     "name": "stdout",
     "output_type": "stream",
     "text": [
      "ชื่อ ภูวนัตถ์ นามสกุล จันทะกล รหัส 603021111-0\n"
     ]
    }
   ],
   "source": [
    "name = 'ภูวนัตถ์'\n",
    "surname = 'จันทะกล'\n",
    "ID = '603021111-0'\n",
    "b = f'ชื่อ {name} นามสกุล {surname} รหัส {ID}'\n",
    "print(b)"
   ]
  },
  {
   "cell_type": "markdown",
   "metadata": {},
   "source": [
    "   ### def function_name(x):\n",
    "           do_something\n",
    "           return y\n",
    "    "
   ]
  },
  {
   "cell_type": "markdown",
   "metadata": {},
   "source": [
    "## normal function"
   ]
  },
  {
   "cell_type": "code",
   "execution_count": 12,
   "metadata": {},
   "outputs": [],
   "source": [
    "def print_line1(name1,surname1,ID1):\n",
    "    st = f' ชื่อ {name1} นามสกุล {surname1} รหัส {ID1}'    \n",
    "    return st"
   ]
  },
  {
   "cell_type": "code",
   "execution_count": 13,
   "metadata": {},
   "outputs": [
    {
     "name": "stdout",
     "output_type": "stream",
     "text": [
      " ชื่อ ภูวนัตถ์ นามสกุล จันทะกล รหัส 603021111-0\n"
     ]
    }
   ],
   "source": [
    "print(print_line1('ภูวนัตถ์','จันทะกล','603021111-0'))"
   ]
  },
  {
   "cell_type": "code",
   "execution_count": 14,
   "metadata": {},
   "outputs": [],
   "source": [
    "def print_2line(name1,surname1,ID1,grade):\n",
    "    st = f' ชื่อ {name1} นามสกุล {surname1} รหัส {ID1}'    \n",
    "    print(st)\n",
    "    st2 = f' เกรดวิชา Stat1 >>> {grade}'\n",
    "    print(st2)"
   ]
  },
  {
   "cell_type": "code",
   "execution_count": 19,
   "metadata": {},
   "outputs": [
    {
     "name": "stdout",
     "output_type": "stream",
     "text": [
      " ชื่อ ภูวนัตถ์ นามสกุล จันทะกล รหัส 603021111-0\n",
      " เกรดวิชา Stat1 >>> A\n",
      " ชื่อ กัญญ์รินท์ นามสกุล อินทจันทร์ รหัส 603021854-4\n",
      " เกรดวิชา Stat1 >>> A\n",
      " ชื่อ ศุภนิตา นามสกุล ดาดวน รหัส 603021129-1\n",
      " เกรดวิชา Stat1 >>> A\n",
      " ชื่อ ทรงกลด นามสกุล อาจปา รหัส 603021864-1\n",
      " เกรดวิชา Stat1 >>> A\n"
     ]
    }
   ],
   "source": [
    "print_2line('ภูวนัตถ์','จันทะกล','603021111-0','A')\n",
    "print_2line('กัญญ์รินท์','อินทจันทร์','603021854-4','A')\n",
    "print_2line('ศุภนิตา','ดาดวน','603021129-1','A')\n",
    "print_2line('ทรงกลด','อาจปา','603021864-1','A')"
   ]
  },
  {
   "cell_type": "code",
   "execution_count": 20,
   "metadata": {},
   "outputs": [
    {
     "ename": "IndentationError",
     "evalue": "unexpected indent (<ipython-input-20-600948f47a40>, line 5)",
     "output_type": "error",
     "traceback": [
      "\u001b[1;36m  File \u001b[1;32m\"<ipython-input-20-600948f47a40>\"\u001b[1;36m, line \u001b[1;32m5\u001b[0m\n\u001b[1;33m    print(st2)\u001b[0m\n\u001b[1;37m    ^\u001b[0m\n\u001b[1;31mIndentationError\u001b[0m\u001b[1;31m:\u001b[0m unexpected indent\n"
     ]
    }
   ],
   "source": [
    "def print_2line(name1,surname1,ID1,grade):\n",
    "    st = f' ชื่อ {name1} นามสกุล {surname1} รหัส {ID1}'    \n",
    "    print(st)\n",
    "    st2 = f' เกรดวิชา Stat1 >>> {grade}'\n",
    "     print(st2) ###Errorเกิดจากการเว้นวรรคผิด"
   ]
  },
  {
   "cell_type": "code",
   "execution_count": 21,
   "metadata": {},
   "outputs": [],
   "source": [
    "def print_2line(name1,surname1,ID1,grade):\n",
    "    st = f' ชื่อ {name1} นามสกุล {surname1} รหัส {ID1}'    \n",
    "    return st ### เกรดไม่ออก เพราะสั่งรีเทิร์นไปแล้ว หลังรีเทิร์นจะไม่รัน\n",
    "    st2 = f' เกรดวิชา Stat1 >>> {grade}'\n",
    "    print(st2)"
   ]
  },
  {
   "cell_type": "code",
   "execution_count": 23,
   "metadata": {},
   "outputs": [
    {
     "data": {
      "text/plain": [
       "' ชื่อ ภูวนัตถ์ นามสกุล จันทะกล รหัส 603021111-0'"
      ]
     },
     "execution_count": 23,
     "metadata": {},
     "output_type": "execute_result"
    }
   ],
   "source": [
    "print_2line('ภูวนัตถ์','จันทะกล','603021111-0','A')"
   ]
  },
  {
   "cell_type": "markdown",
   "metadata": {},
   "source": [
    "## function without input ไม่มีอินพุด"
   ]
  },
  {
   "cell_type": "code",
   "execution_count": 24,
   "metadata": {},
   "outputs": [],
   "source": [
    "def two_x_three():\n",
    "    x = 2*3\n",
    "    return x"
   ]
  },
  {
   "cell_type": "code",
   "execution_count": 25,
   "metadata": {},
   "outputs": [
    {
     "data": {
      "text/plain": [
       "6"
      ]
     },
     "execution_count": 25,
     "metadata": {},
     "output_type": "execute_result"
    }
   ],
   "source": [
    "two_x_three()"
   ]
  },
  {
   "cell_type": "markdown",
   "metadata": {},
   "source": [
    "## function with default argument อินพุดเป็นดีฟาว"
   ]
  },
  {
   "cell_type": "code",
   "execution_count": 27,
   "metadata": {},
   "outputs": [],
   "source": [
    "def print_2line(name1,surname1,ID1,grade='F'):\n",
    "    st = f' ชื่อ {name1} นามสกุล {surname1} รหัส {ID1}'    \n",
    "    print(st)\n",
    "    st2 = f' เกรดวิชา Stat1 >>> {grade}'\n",
    "    print(st2)"
   ]
  },
  {
   "cell_type": "code",
   "execution_count": 29,
   "metadata": {},
   "outputs": [
    {
     "name": "stdout",
     "output_type": "stream",
     "text": [
      " ชื่อ ภูวนัตถ์ นามสกุล จันทะกล รหัส 603021111-0\n",
      " เกรดวิชา Stat1 >>> F\n"
     ]
    }
   ],
   "source": [
    "print_2line('ภูวนัตถ์','จันทะกล','603021111-0') ##ไม่ใส่เกรด ก็จะแสดงเกรดF "
   ]
  },
  {
   "cell_type": "code",
   "execution_count": 31,
   "metadata": {},
   "outputs": [
    {
     "name": "stdout",
     "output_type": "stream",
     "text": [
      " ชื่อ ภูวนัตถ์ นามสกุล จันทะกล รหัส 603021111-0\n",
      " เกรดวิชา Stat1 >>> A+++\n"
     ]
    }
   ],
   "source": [
    "print_2line('ภูวนัตถ์','จันทะกล','603021111-0','A+++') ##ถ้าใส่เกรดก็จะรันตามปกติ"
   ]
  },
  {
   "cell_type": "code",
   "execution_count": 33,
   "metadata": {},
   "outputs": [
    {
     "name": "stdout",
     "output_type": "stream",
     "text": [
      " ชื่อ จันทะกล นามสกุล ภูวนัตถ์ รหัส 603021111-0\n",
      " เกรดวิชา Stat1 >>> A\n"
     ]
    }
   ],
   "source": [
    "print_2line(surname1 = 'ภูวนัตถ์',name1 = 'จันทะกล',ID1 = '603021111-0',grade='A')"
   ]
  },
  {
   "cell_type": "markdown",
   "metadata": {},
   "source": [
    "# Loop (วนซ้ำ)"
   ]
  },
  {
   "cell_type": "markdown",
   "metadata": {},
   "source": [
    "```Python\n",
    "for each_member in listA:\n",
    "     do something\n",
    "```"
   ]
  },
  {
   "cell_type": "code",
   "execution_count": 36,
   "metadata": {},
   "outputs": [
    {
     "name": "stdout",
     "output_type": "stream",
     "text": [
      "1\n",
      "2\n",
      "3\n"
     ]
    }
   ],
   "source": [
    "for i in [1,2,3]:\n",
    "    print(i)"
   ]
  },
  {
   "cell_type": "code",
   "execution_count": 41,
   "metadata": {},
   "outputs": [
    {
     "name": "stdout",
     "output_type": "stream",
     "text": [
      "P -> /\n",
      " \n",
      "h -> /\n",
      " \n",
      "u -> /\n",
      " \n",
      "w -> /\n",
      " \n",
      "a -> /\n",
      " \n",
      "n -> /\n",
      " \n",
      "a -> /\n",
      " \n",
      "t -> /\n",
      " \n"
     ]
    }
   ],
   "source": [
    "for i in 'Phuwanat':\n",
    "    print(f'{i} -> /') ##ปริ้นทีละตัว\n",
    "    print(' ') ##ปริ้นบรรทัดว่าง"
   ]
  },
  {
   "cell_type": "markdown",
   "metadata": {},
   "source": [
    "### 1. สร้าง list ชื่อเพื่อนที่อยู่ในแถวยาวเดียวกัน\n",
    "### 2. วนลูบปริ้นคำประโยค ชื่อตัวเองxxxx รักyyyy ชื่อเพื่อนzzzz ทุกคนในแถวยาว"
   ]
  },
  {
   "cell_type": "code",
   "execution_count": 70,
   "metadata": {},
   "outputs": [],
   "source": [
    "list_Dodo = ['เกตุ','นัท','ฟาง','นกยูง','ไอซ์','บอส','แบงค์']"
   ]
  },
  {
   "cell_type": "code",
   "execution_count": 71,
   "metadata": {},
   "outputs": [
    {
     "name": "stdout",
     "output_type": "stream",
     "text": [
      "โดโด้รักเกตุ\n",
      "โดโด้รักนัท\n",
      "โดโด้รักฟาง\n",
      "โดโด้รักนกยูง\n",
      "โดโด้รักไอซ์\n",
      "โดโด้รักบอส\n",
      "โดโด้รักแบงค์\n"
     ]
    }
   ],
   "source": [
    "for i in list_Dodo:\n",
    "    print('โดโด้'  'รัก'  f'{i}')\n",
    "    "
   ]
  },
  {
   "cell_type": "markdown",
   "metadata": {},
   "source": [
    "## Function in Loop"
   ]
  },
  {
   "cell_type": "code",
   "execution_count": 75,
   "metadata": {},
   "outputs": [],
   "source": [
    "list_Dodo = ['เกตุ','นัท','ฟาง','นกยูง','ไอซ์','บอส','แบงค์']"
   ]
  },
  {
   "cell_type": "code",
   "execution_count": 118,
   "metadata": {},
   "outputs": [],
   "source": [
    "def print_3(name,feel,fname):\n",
    "        st = f' {name} {feel} {fname}'\n",
    "        print(st)"
   ]
  },
  {
   "cell_type": "code",
   "execution_count": 119,
   "metadata": {},
   "outputs": [
    {
     "name": "stdout",
     "output_type": "stream",
     "text": [
      " โดโด้ รัก เกตุ\n",
      " โดโด้ รัก นัท\n",
      " โดโด้ รัก ฟาง\n",
      " โดโด้ รัก นกยูง\n",
      " โดโด้ รัก ไอซ์\n",
      " โดโด้ รัก บอส\n",
      " โดโด้ รัก แบงค์\n"
     ]
    }
   ],
   "source": [
    "print_3line('โดโด้','รัก','เกตุ')\n",
    "print_3line('โดโด้','รัก','นัท')\n",
    "print_3line('โดโด้','รัก','ฟาง')\n",
    "print_3line('โดโด้','รัก','นกยูง')\n",
    "print_3line('โดโด้','รัก','ไอซ์')\n",
    "print_3line('โดโด้','รัก','บอส')\n",
    "print_3line('โดโด้','รัก','แบงค์')"
   ]
  },
  {
   "cell_type": "code",
   "execution_count": 120,
   "metadata": {},
   "outputs": [
    {
     "name": "stdout",
     "output_type": "stream",
     "text": [
      " โดโด้ รัก เกตุ\n",
      " โดโด้ รัก นัท\n",
      " โดโด้ รัก ฟาง\n",
      " โดโด้ รัก นกยูง\n",
      " โดโด้ รัก ไอซ์\n",
      " โดโด้ รัก บอส\n",
      " โดโด้ รัก แบงค์\n"
     ]
    }
   ],
   "source": [
    "for i in list_Dodo:\n",
    "    print_3('โดโด้','รัก',i)"
   ]
  },
  {
   "cell_type": "markdown",
   "metadata": {},
   "source": [
    "## loop in loop"
   ]
  },
  {
   "cell_type": "code",
   "execution_count": 109,
   "metadata": {},
   "outputs": [
    {
     "name": "stdout",
     "output_type": "stream",
     "text": [
      " เกตุ รัก เกตุ\n",
      " เกตุ รัก นัท\n",
      " เกตุ รัก ฟาง\n",
      " เกตุ รัก นกยูง\n",
      " เกตุ รัก ไอซ์\n",
      " เกตุ รัก บอส\n",
      " เกตุ รัก แบงค์\n",
      " นัท รัก เกตุ\n",
      " นัท รัก นัท\n",
      " นัท รัก ฟาง\n",
      " นัท รัก นกยูง\n",
      " นัท รัก ไอซ์\n",
      " นัท รัก บอส\n",
      " นัท รัก แบงค์\n",
      " ฟาง รัก เกตุ\n",
      " ฟาง รัก นัท\n",
      " ฟาง รัก ฟาง\n",
      " ฟาง รัก นกยูง\n",
      " ฟาง รัก ไอซ์\n",
      " ฟาง รัก บอส\n",
      " ฟาง รัก แบงค์\n",
      " นกยูง รัก เกตุ\n",
      " นกยูง รัก นัท\n",
      " นกยูง รัก ฟาง\n",
      " นกยูง รัก นกยูง\n",
      " นกยูง รัก ไอซ์\n",
      " นกยูง รัก บอส\n",
      " นกยูง รัก แบงค์\n",
      " ไอซ์ รัก เกตุ\n",
      " ไอซ์ รัก นัท\n",
      " ไอซ์ รัก ฟาง\n",
      " ไอซ์ รัก นกยูง\n",
      " ไอซ์ รัก ไอซ์\n",
      " ไอซ์ รัก บอส\n",
      " ไอซ์ รัก แบงค์\n",
      " บอส รัก เกตุ\n",
      " บอส รัก นัท\n",
      " บอส รัก ฟาง\n",
      " บอส รัก นกยูง\n",
      " บอส รัก ไอซ์\n",
      " บอส รัก บอส\n",
      " บอส รัก แบงค์\n",
      " แบงค์ รัก เกตุ\n",
      " แบงค์ รัก นัท\n",
      " แบงค์ รัก ฟาง\n",
      " แบงค์ รัก นกยูง\n",
      " แบงค์ รัก ไอซ์\n",
      " แบงค์ รัก บอส\n",
      " แบงค์ รัก แบงค์\n"
     ]
    }
   ],
   "source": [
    "for name1 in list_Dodo:\n",
    "    for name2 in list_Dodo:\n",
    "        print_3(name1,'รัก',name2)"
   ]
  },
  {
   "cell_type": "markdown",
   "metadata": {},
   "source": [
    "## Loop in Function"
   ]
  },
  {
   "cell_type": "code",
   "execution_count": 110,
   "metadata": {},
   "outputs": [],
   "source": [
    "def print_3lines(name,feel,fname):\n",
    "    for fname in fname:\n",
    "        print(f' {name} {feel} {fname}')"
   ]
  },
  {
   "cell_type": "code",
   "execution_count": 111,
   "metadata": {},
   "outputs": [
    {
     "name": "stdout",
     "output_type": "stream",
     "text": [
      " โดโด้ รัก เกตุ\n",
      " โดโด้ รัก นัท\n",
      " โดโด้ รัก ฟาง\n",
      " โดโด้ รัก นกยูง\n",
      " โดโด้ รัก ไอซ์\n",
      " โดโด้ รัก บอส\n",
      " โดโด้ รัก แบงค์\n"
     ]
    }
   ],
   "source": [
    "print_3lines('โดโด้','รัก',list_Dodo)"
   ]
  },
  {
   "cell_type": "markdown",
   "metadata": {},
   "source": [
    "## Loop in dict"
   ]
  },
  {
   "cell_type": "code",
   "execution_count": 112,
   "metadata": {},
   "outputs": [
    {
     "data": {
      "text/plain": [
       "{'พันทิพา': 'B', 'ศุภนิตา': 'C', 'ปนัดดา': 'A', 'ทรงกลด': 'F'}"
      ]
     },
     "execution_count": 112,
     "metadata": {},
     "output_type": "execute_result"
    }
   ],
   "source": [
    "name_grade = {'พันทิพา':'B','ศุภนิตา':'C','ปนัดดา':'A','ทรงกลด':'F'}\n",
    "name_grade"
   ]
  },
  {
   "cell_type": "code",
   "execution_count": 113,
   "metadata": {},
   "outputs": [
    {
     "data": {
      "text/plain": [
       "'A'"
      ]
     },
     "execution_count": 113,
     "metadata": {},
     "output_type": "execute_result"
    }
   ],
   "source": [
    "name_grade['ปนัดดา']"
   ]
  },
  {
   "cell_type": "code",
   "execution_count": 114,
   "metadata": {},
   "outputs": [
    {
     "name": "stdout",
     "output_type": "stream",
     "text": [
      "พันทิพา ได้เกรด B\n",
      "ศุภนิตา ได้เกรด C\n",
      "ปนัดดา ได้เกรด A\n",
      "ทรงกลด ได้เกรด F\n"
     ]
    }
   ],
   "source": [
    "for i in name_grade.keys():\n",
    "    print(f'{i} ได้เกรด {name_grade[i]}')"
   ]
  },
  {
   "cell_type": "code",
   "execution_count": 115,
   "metadata": {},
   "outputs": [
    {
     "data": {
      "text/plain": [
       "dict_keys(['พันทิพา', 'ศุภนิตา', 'ปนัดดา', 'ทรงกลด'])"
      ]
     },
     "execution_count": 115,
     "metadata": {},
     "output_type": "execute_result"
    }
   ],
   "source": [
    "name_grade.keys() ##ดูอินเด็ก"
   ]
  },
  {
   "cell_type": "markdown",
   "metadata": {},
   "source": [
    "## conditional เงื่อนไข"
   ]
  },
  {
   "cell_type": "markdown",
   "metadata": {},
   "source": [
    "## ==, != , >= , <=, < , > เครื่องหมายที่ใช้กับ Condition"
   ]
  },
  {
   "cell_type": "markdown",
   "metadata": {},
   "source": [
    "```Python\n",
    "if condition:\n",
    "    do something\n",
    "elif condition2:\n",
    "    do another thing\n",
    "else:\n",
    "    do\n",
    "```"
   ]
  },
  {
   "cell_type": "code",
   "execution_count": 122,
   "metadata": {},
   "outputs": [
    {
     "name": "stdout",
     "output_type": "stream",
     "text": [
      " เกตุ รัก นัท\n",
      " เกตุ รัก ฟาง\n",
      " เกตุ รัก นกยูง\n",
      " เกตุ รัก ไอซ์\n",
      " เกตุ รัก บอส\n",
      " เกตุ รัก แบงค์\n",
      " นัท รัก เกตุ\n",
      " นัท รัก ฟาง\n",
      " นัท รัก นกยูง\n",
      " นัท รัก ไอซ์\n",
      " นัท รัก บอส\n",
      " นัท รัก แบงค์\n",
      " ฟาง รัก เกตุ\n",
      " ฟาง รัก นัท\n",
      " ฟาง รัก นกยูง\n",
      " ฟาง รัก ไอซ์\n",
      " ฟาง รัก บอส\n",
      " ฟาง รัก แบงค์\n",
      " นกยูง รัก เกตุ\n",
      " นกยูง รัก นัท\n",
      " นกยูง รัก ฟาง\n",
      " นกยูง รัก ไอซ์\n",
      " นกยูง รัก บอส\n",
      " นกยูง รัก แบงค์\n",
      " ไอซ์ รัก เกตุ\n",
      " ไอซ์ รัก นัท\n",
      " ไอซ์ รัก ฟาง\n",
      " ไอซ์ รัก นกยูง\n",
      " ไอซ์ รัก บอส\n",
      " ไอซ์ รัก แบงค์\n",
      " บอส รัก เกตุ\n",
      " บอส รัก นัท\n",
      " บอส รัก ฟาง\n",
      " บอส รัก นกยูง\n",
      " บอส รัก ไอซ์\n",
      " บอส รัก แบงค์\n",
      " แบงค์ รัก เกตุ\n",
      " แบงค์ รัก นัท\n",
      " แบงค์ รัก ฟาง\n",
      " แบงค์ รัก นกยูง\n",
      " แบงค์ รัก ไอซ์\n",
      " แบงค์ รัก บอส\n"
     ]
    }
   ],
   "source": [
    "for name1 in list_Dodo:\n",
    "    for name2 in list_Dodo:\n",
    "        if name1 != name2:\n",
    "            print_3(name1,'รัก',name2)"
   ]
  },
  {
   "cell_type": "code",
   "execution_count": 123,
   "metadata": {},
   "outputs": [
    {
     "name": "stdout",
     "output_type": "stream",
     "text": [
      "yes\n"
     ]
    }
   ],
   "source": [
    "if True:\n",
    "    print('yes')"
   ]
  },
  {
   "cell_type": "code",
   "execution_count": 124,
   "metadata": {},
   "outputs": [],
   "source": [
    "if False:\n",
    "    print('No')"
   ]
  },
  {
   "cell_type": "code",
   "execution_count": 125,
   "metadata": {},
   "outputs": [
    {
     "name": "stdout",
     "output_type": "stream",
     "text": [
      "No\n"
     ]
    }
   ],
   "source": [
    "if False:\n",
    "    print('Yes')\n",
    "else:\n",
    "    print('No')"
   ]
  },
  {
   "cell_type": "code",
   "execution_count": 126,
   "metadata": {},
   "outputs": [
    {
     "name": "stdout",
     "output_type": "stream",
     "text": [
      "1=1\n"
     ]
    }
   ],
   "source": [
    "if 1 == 1:\n",
    "    print('1=1')"
   ]
  },
  {
   "cell_type": "markdown",
   "metadata": {},
   "source": [
    "# HW \n",
    "### เขียน function ตัดเกรด โดยที่ input เป็นคะแนน(0-100) output เป็นเกรด(F-A)\n",
    "### input [1,50,65,90,101,-5,49] "
   ]
  },
  {
   "cell_type": "code",
   "execution_count": 5,
   "metadata": {},
   "outputs": [],
   "source": [
    "def grade(s):\n",
    "    if s < 50:\n",
    "        print(f'{s} ได้เกรด F')\n",
    "    elif 50 >= s < 55:\n",
    "        print(f'{s} ได้เกรด D')\n",
    "    elif 55 >= s < 60:\n",
    "        print(f'{s} ได้เกรด D+')\n",
    "    elif 60 >= s < 65:\n",
    "        print(f'{s} ได้เกรด C')\n",
    "    elif 65 >= s < 70:\n",
    "        print(f'{s} ได้เกรด C+')\n",
    "    elif 70 >= s < 75:\n",
    "        print(f'{s} ได้เกรด B')\n",
    "    elif 75 >= s < 80:\n",
    "        print(f'{s} ได้เกรด B+')\n",
    "    else:\n",
    "        print(f'{s} ได้เกรด A')"
   ]
  },
  {
   "cell_type": "code",
   "execution_count": 6,
   "metadata": {},
   "outputs": [
    {
     "name": "stdout",
     "output_type": "stream",
     "text": [
      "1 ได้เกรด F\n",
      "50 ได้เกรด D\n",
      "65 ได้เกรด C+\n",
      "90 ได้เกรด A\n",
      "101 ได้เกรด A\n",
      "-5 ได้เกรด F\n",
      "49 ได้เกรด F\n"
     ]
    }
   ],
   "source": [
    "grade(1)\n",
    "grade(50)\n",
    "grade(65)\n",
    "grade(90)\n",
    "grade(101)\n",
    "grade(-5)\n",
    "grade(49)"
   ]
  },
  {
   "cell_type": "code",
   "execution_count": null,
   "metadata": {},
   "outputs": [],
   "source": []
  },
  {
   "cell_type": "code",
   "execution_count": null,
   "metadata": {},
   "outputs": [],
   "source": []
  },
  {
   "cell_type": "code",
   "execution_count": null,
   "metadata": {},
   "outputs": [],
   "source": []
  },
  {
   "cell_type": "code",
   "execution_count": null,
   "metadata": {},
   "outputs": [],
   "source": []
  },
  {
   "cell_type": "code",
   "execution_count": null,
   "metadata": {},
   "outputs": [],
   "source": []
  },
  {
   "cell_type": "code",
   "execution_count": null,
   "metadata": {},
   "outputs": [],
   "source": []
  },
  {
   "cell_type": "code",
   "execution_count": null,
   "metadata": {},
   "outputs": [],
   "source": []
  },
  {
   "cell_type": "code",
   "execution_count": null,
   "metadata": {},
   "outputs": [],
   "source": []
  },
  {
   "cell_type": "code",
   "execution_count": null,
   "metadata": {},
   "outputs": [],
   "source": []
  },
  {
   "cell_type": "code",
   "execution_count": null,
   "metadata": {},
   "outputs": [],
   "source": []
  },
  {
   "cell_type": "code",
   "execution_count": null,
   "metadata": {},
   "outputs": [],
   "source": []
  },
  {
   "cell_type": "code",
   "execution_count": null,
   "metadata": {},
   "outputs": [],
   "source": []
  },
  {
   "cell_type": "code",
   "execution_count": null,
   "metadata": {},
   "outputs": [],
   "source": []
  },
  {
   "cell_type": "code",
   "execution_count": null,
   "metadata": {},
   "outputs": [],
   "source": []
  },
  {
   "cell_type": "code",
   "execution_count": null,
   "metadata": {},
   "outputs": [],
   "source": []
  },
  {
   "cell_type": "code",
   "execution_count": null,
   "metadata": {},
   "outputs": [],
   "source": []
  },
  {
   "cell_type": "code",
   "execution_count": null,
   "metadata": {},
   "outputs": [],
   "source": []
  },
  {
   "cell_type": "code",
   "execution_count": null,
   "metadata": {},
   "outputs": [],
   "source": []
  }
 ],
 "metadata": {
  "kernelspec": {
   "display_name": "Python 3",
   "language": "python",
   "name": "python3"
  },
  "language_info": {
   "codemirror_mode": {
    "name": "ipython",
    "version": 3
   },
   "file_extension": ".py",
   "mimetype": "text/x-python",
   "name": "python",
   "nbconvert_exporter": "python",
   "pygments_lexer": "ipython3",
   "version": "3.7.3"
  }
 },
 "nbformat": 4,
 "nbformat_minor": 2
}
